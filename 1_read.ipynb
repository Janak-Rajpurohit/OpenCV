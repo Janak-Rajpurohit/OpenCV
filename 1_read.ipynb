{
 "cells": [
  {
   "cell_type": "code",
   "execution_count": null,
   "metadata": {},
   "outputs": [],
   "source": [
    "import cv2"
   ]
  },
  {
   "cell_type": "code",
   "execution_count": null,
   "metadata": {},
   "outputs": [],
   "source": [
    "# reading images\n",
    "path=\"photos and videos/img2.jpg\"\n",
    "img = cv2.imread(path)     #reading\n",
    "cv2.imshow(\"Me\",img)       #display\n",
    "cv2.waitKey(0)             # wait for infine time untill any key is pressed"
   ]
  },
  {
   "cell_type": "code",
   "execution_count": null,
   "metadata": {},
   "outputs": [],
   "source": [
    "# reading videos\n",
    "# cv2.VideoCapture( interger value for web cam connected to computer(multiple cam also) / __Path__)\n",
    "capture = cv2.VideoCapture(\"photos and videos/motion.mp4\") \n",
    "# video is read frame by frame(photo)\n",
    "while True :\n",
    "    # isTrue if the frame is successfully read or not\n",
    "    isTrue , frame = capture.read()\n",
    "    # diaplay individual frame\n",
    "    cv2.imshow(\"Video\",frame)\n",
    "\n",
    "    if cv2.waitKey(20) & 0xFF==ord(\"d\"):\n",
    "        break\n",
    "capture.release()\n",
    "cv2.destroyAllWindows()\n",
    "cv2.waitKey(0) \n",
    "\n"
   ]
  },
  {
   "cell_type": "code",
   "execution_count": null,
   "metadata": {},
   "outputs": [],
   "source": [
    "# resizing & rescalling   \n",
    "# can be apply on video frame also , in while loop\n",
    "def rescaleFrame(frame,scale=0.75):              # by default 75% rescalling\n",
    "    width=int(frame.shape[1]*scale)\n",
    "    height=int(frame.shape[0]*scale)\n",
    "    dim = (width,height)\n",
    "    return cv2.resize(frame,dim,interpolation=cv2.INTER_AREA)\n",
    "img = cv2.imread(\"photos and videos/img2.jpg\")\n",
    "print(\"Image width and height\",img.shape[1],img.shape[0])\n",
    "cv2.imshow(\"Before Rescalling\",img)\n",
    "newImg = rescaleFrame(img)\n",
    "print(\"Image width and height\",newImg.shape[1],newImg.shape[0])\n",
    "cv2.imshow(\"After Rescalling\",newImg)\n",
    "cv2.waitKey(0)"
   ]
  },
  {
   "cell_type": "code",
   "execution_count": null,
   "metadata": {},
   "outputs": [],
   "source": [
    "#  same resscalling can be done in video by set method\n",
    "\n",
    "def changeRes(width,height):\n",
    "    # only work for live video, not on exsisting video\n",
    "    capture.set(3,width)\n",
    "    capture.set(4,height)\n"
   ]
  },
  {
   "cell_type": "code",
   "execution_count": null,
   "metadata": {},
   "outputs": [],
   "source": []
  }
 ],
 "metadata": {
  "kernelspec": {
   "display_name": "Python 3",
   "language": "python",
   "name": "python3"
  },
  "language_info": {
   "codemirror_mode": {
    "name": "ipython",
    "version": 3
   },
   "file_extension": ".py",
   "mimetype": "text/x-python",
   "name": "python",
   "nbconvert_exporter": "python",
   "pygments_lexer": "ipython3",
   "version": "3.11.7"
  },
  "orig_nbformat": 4
 },
 "nbformat": 4,
 "nbformat_minor": 2
}
